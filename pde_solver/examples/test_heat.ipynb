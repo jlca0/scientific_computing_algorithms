{
 "cells": [
  {
   "cell_type": "code",
   "execution_count": null,
   "id": "382d660f-533c-40b7-bdcf-740c02984315",
   "metadata": {},
   "outputs": [],
   "source": []
  }
 ],
 "metadata": {
  "kernelspec": {
   "display_name": "",
   "name": ""
  },
  "language_info": {
   "name": ""
  }
 },
 "nbformat": 4,
 "nbformat_minor": 5
}
