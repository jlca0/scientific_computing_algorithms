{
 "cells": [
  {
   "cell_type": "code",
   "execution_count": null,
   "id": "e74dc7f9-1988-4663-be77-61c7cad0c438",
   "metadata": {},
   "outputs": [],
   "source": []
  }
 ],
 "metadata": {
  "kernelspec": {
   "display_name": "",
   "name": ""
  },
  "language_info": {
   "name": ""
  }
 },
 "nbformat": 4,
 "nbformat_minor": 5
}
